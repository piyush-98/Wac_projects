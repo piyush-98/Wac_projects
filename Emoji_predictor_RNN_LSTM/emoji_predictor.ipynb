{
 "cells": [
  {
   "cell_type": "code",
   "execution_count": 75,
   "metadata": {},
   "outputs": [],
   "source": [
    "import numpy as np\n",
    "import pandas as pd"
   ]
  },
  {
   "cell_type": "code",
   "execution_count": 76,
   "metadata": {},
   "outputs": [],
   "source": [
    "\n",
    "train = pd.read_csv(r'emoji.csv',header=None)\n",
    "test = pd.read_csv(r'emoji_test.csv',header=None)"
   ]
  },
  {
   "cell_type": "code",
   "execution_count": 77,
   "metadata": {},
   "outputs": [
    {
     "data": {
      "text/html": [
       "<div>\n",
       "<style scoped>\n",
       "    .dataframe tbody tr th:only-of-type {\n",
       "        vertical-align: middle;\n",
       "    }\n",
       "\n",
       "    .dataframe tbody tr th {\n",
       "        vertical-align: top;\n",
       "    }\n",
       "\n",
       "    .dataframe thead th {\n",
       "        text-align: right;\n",
       "    }\n",
       "</style>\n",
       "<table border=\"1\" class=\"dataframe\">\n",
       "  <thead>\n",
       "    <tr style=\"text-align: right;\">\n",
       "      <th></th>\n",
       "      <th>0</th>\n",
       "      <th>1</th>\n",
       "      <th>2</th>\n",
       "      <th>3</th>\n",
       "    </tr>\n",
       "  </thead>\n",
       "  <tbody>\n",
       "    <tr>\n",
       "      <th>0</th>\n",
       "      <td>never talk to me again</td>\n",
       "      <td>3</td>\n",
       "      <td>NaN</td>\n",
       "      <td>NaN</td>\n",
       "    </tr>\n",
       "    <tr>\n",
       "      <th>1</th>\n",
       "      <td>I am proud of your achievements</td>\n",
       "      <td>2</td>\n",
       "      <td>NaN</td>\n",
       "      <td>NaN</td>\n",
       "    </tr>\n",
       "    <tr>\n",
       "      <th>2</th>\n",
       "      <td>It is the worst day in my life</td>\n",
       "      <td>3</td>\n",
       "      <td>NaN</td>\n",
       "      <td>NaN</td>\n",
       "    </tr>\n",
       "    <tr>\n",
       "      <th>3</th>\n",
       "      <td>Miss you so much</td>\n",
       "      <td>0</td>\n",
       "      <td>NaN</td>\n",
       "      <td>[0]</td>\n",
       "    </tr>\n",
       "    <tr>\n",
       "      <th>4</th>\n",
       "      <td>food is life</td>\n",
       "      <td>4</td>\n",
       "      <td>NaN</td>\n",
       "      <td>NaN</td>\n",
       "    </tr>\n",
       "  </tbody>\n",
       "</table>\n",
       "</div>"
      ],
      "text/plain": [
       "                                 0  1   2     3\n",
       "0           never talk to me again  3 NaN   NaN\n",
       "1  I am proud of your achievements  2 NaN   NaN\n",
       "2   It is the worst day in my life  3 NaN   NaN\n",
       "3                 Miss you so much  0 NaN   [0]\n",
       "4                     food is life  4 NaN   NaN"
      ]
     },
     "execution_count": 77,
     "metadata": {},
     "output_type": "execute_result"
    }
   ],
   "source": [
    "train.head()"
   ]
  },
  {
   "cell_type": "code",
   "execution_count": 78,
   "metadata": {},
   "outputs": [],
   "source": [
    "import emoji as emoji"
   ]
  },
  {
   "cell_type": "code",
   "execution_count": 79,
   "metadata": {},
   "outputs": [],
   "source": [
    "\n",
    "emoji_dictionary = {\"0\": \"\\u2764\\uFE0F\",    # :heart: prints a black instead of red heart depending on the font\n",
    "                    \"1\": \":baseball:\",\n",
    "                    \"2\": \":beaming_face_with_smiling_eyes:\",\n",
    "                    \"3\": \":downcast_face_with_sweat:\",\n",
    "                    \"4\": \":fork_and_knife:\",\n",
    "                   }"
   ]
  },
  {
   "cell_type": "markdown",
   "metadata": {},
   "source": [
    "https://www.geeksforgeeks.org/python-program-to-print-emojis/"
   ]
  },
  {
   "cell_type": "code",
   "execution_count": 80,
   "metadata": {},
   "outputs": [
    {
     "data": {
      "text/plain": [
       "'❤️'"
      ]
     },
     "execution_count": 80,
     "metadata": {},
     "output_type": "execute_result"
    }
   ],
   "source": [
    "emoji.emojize('\\u2764\\uFE0F')"
   ]
  },
  {
   "cell_type": "code",
   "execution_count": 81,
   "metadata": {},
   "outputs": [
    {
     "name": "stdout",
     "output_type": "stream",
     "text": [
      "❤\n"
     ]
    }
   ],
   "source": [
    "print(\"\\u2764\")"
   ]
  },
  {
   "cell_type": "code",
   "execution_count": 82,
   "metadata": {},
   "outputs": [
    {
     "name": "stdout",
     "output_type": "stream",
     "text": [
      "❤️\n",
      "⚾\n",
      "😁\n",
      "😓\n",
      "🍴\n"
     ]
    }
   ],
   "source": [
    "\n",
    "for e in emoji_dictionary.values():\n",
    "    print(emoji.emojize(e))"
   ]
  },
  {
   "cell_type": "code",
   "execution_count": 83,
   "metadata": {},
   "outputs": [
    {
     "name": "stdout",
     "output_type": "stream",
     "text": [
      "never talk to me again 😓\n",
      "I am proud of your achievements 😁\n",
      "It is the worst day in my life 😓\n",
      "Miss you so much ❤️\n",
      "food is life 🍴\n",
      "I love you mum ❤️\n",
      "Stop saying bullshit 😓\n",
      "congratulations on your acceptance 😁\n",
      "The assignment is too long  😓\n",
      "I want to go play ⚾\n"
     ]
    }
   ],
   "source": [
    "data = train.values\n",
    "for i in range(10):\n",
    "    print(data[i][0],emoji.emojize(emoji_dictionary[str(data[i][1])]))"
   ]
  },
  {
   "cell_type": "code",
   "execution_count": 84,
   "metadata": {},
   "outputs": [],
   "source": [
    "from keras.utils import to_categorical"
   ]
  },
  {
   "cell_type": "code",
   "execution_count": 85,
   "metadata": {},
   "outputs": [
    {
     "data": {
      "text/plain": [
       "array([3, 2, 0, 4, 1], dtype=int64)"
      ]
     },
     "execution_count": 85,
     "metadata": {},
     "output_type": "execute_result"
    }
   ],
   "source": [
    "train[1].unique()"
   ]
  },
  {
   "cell_type": "code",
   "execution_count": 86,
   "metadata": {},
   "outputs": [
    {
     "name": "stdout",
     "output_type": "stream",
     "text": [
      "(132,)\n",
      "(56,)\n",
      "(132, 5)\n",
      "(56, 5)\n"
     ]
    }
   ],
   "source": [
    "XT = train[0]\n",
    "Xt = test[0]\n",
    "\n",
    "YT = to_categorical(train[1])\n",
    "Yt = to_categorical(test[1])\n",
    "\n",
    "\n",
    "print(XT.shape)\n",
    "print(Xt.shape)\n",
    "print(YT.shape)\n",
    "print(Yt.shape)"
   ]
  },
  {
   "cell_type": "markdown",
   "metadata": {},
   "source": [
    "### Download the glove embeddings from here\n",
    "https://www.kaggle.com/watts2/glove6b50dtxt"
   ]
  },
  {
   "cell_type": "code",
   "execution_count": 87,
   "metadata": {},
   "outputs": [],
   "source": [
    "embeddings = {}\n",
    "with open(r'C:\\Users\\PIYUSH\\Documents/glove.6B.50d.txt',encoding='utf-8') as f:\n",
    "    for line in f:\n",
    "        values = line.split()\n",
    "        word = values[0]\n",
    "        coeffs = np.asarray(values[1:],dtype='float32')\n",
    "        \n",
    "        #print(word)\n",
    "        #print(coeffs)\n",
    "        embeddings[word] = coeffs"
   ]
  },
  {
   "cell_type": "code",
   "execution_count": 88,
   "metadata": {},
   "outputs": [
    {
     "data": {
      "text/plain": [
       "array([ 4.1800e-01,  2.4968e-01, -4.1242e-01,  1.2170e-01,  3.4527e-01,\n",
       "       -4.4457e-02, -4.9688e-01, -1.7862e-01, -6.6023e-04, -6.5660e-01,\n",
       "        2.7843e-01, -1.4767e-01, -5.5677e-01,  1.4658e-01, -9.5095e-03,\n",
       "        1.1658e-02,  1.0204e-01, -1.2792e-01, -8.4430e-01, -1.2181e-01,\n",
       "       -1.6801e-02, -3.3279e-01, -1.5520e-01, -2.3131e-01, -1.9181e-01,\n",
       "       -1.8823e+00, -7.6746e-01,  9.9051e-02, -4.2125e-01, -1.9526e-01,\n",
       "        4.0071e+00, -1.8594e-01, -5.2287e-01, -3.1681e-01,  5.9213e-04,\n",
       "        7.4449e-03,  1.7778e-01, -1.5897e-01,  1.2041e-02, -5.4223e-02,\n",
       "       -2.9871e-01, -1.5749e-01, -3.4758e-01, -4.5637e-02, -4.4251e-01,\n",
       "        1.8785e-01,  2.7849e-03, -1.8411e-01, -1.1514e-01, -7.8581e-01],\n",
       "      dtype=float32)"
      ]
     },
     "execution_count": 88,
     "metadata": {},
     "output_type": "execute_result"
    }
   ],
   "source": [
    "embeddings['the']"
   ]
  },
  {
   "cell_type": "code",
   "execution_count": 89,
   "metadata": {},
   "outputs": [
    {
     "data": {
      "text/plain": [
       "'n'"
      ]
     },
     "execution_count": 89,
     "metadata": {},
     "output_type": "execute_result"
    }
   ],
   "source": [
    "XT[0][0]"
   ]
  },
  {
   "cell_type": "code",
   "execution_count": 90,
   "metadata": {},
   "outputs": [],
   "source": [
    "def getOutputEmbeddings(X):\n",
    "    embedding_matrix_output = np.zeros((X.shape[0],10,50))\n",
    "    for ix in range(X.shape[0]):\n",
    "        X[ix] = X[ix].split()\n",
    "        for jx in range(len(X[ix])):\n",
    "            embedding_matrix_output[ix][jx] = embeddings[X[ix][jx].lower()]\n",
    "            \n",
    "    return embedding_matrix_output"
   ]
  },
  {
   "cell_type": "code",
   "execution_count": 74,
   "metadata": {},
   "outputs": [
    {
     "ename": "AttributeError",
     "evalue": "'list' object has no attribute 'split'",
     "output_type": "error",
     "traceback": [
      "\u001b[1;31m---------------------------------------------------------------------------\u001b[0m",
      "\u001b[1;31mAttributeError\u001b[0m                            Traceback (most recent call last)",
      "\u001b[1;32m<ipython-input-74-fe988b95e1b6>\u001b[0m in \u001b[0;36m<module>\u001b[1;34m()\u001b[0m\n\u001b[0;32m      1\u001b[0m \u001b[1;33m\u001b[0m\u001b[0m\n\u001b[1;32m----> 2\u001b[1;33m \u001b[0memb_XT\u001b[0m \u001b[1;33m=\u001b[0m \u001b[0mgetOutputEmbeddings\u001b[0m\u001b[1;33m(\u001b[0m\u001b[0mXT\u001b[0m\u001b[1;33m)\u001b[0m\u001b[1;33m\u001b[0m\u001b[0m\n\u001b[0m\u001b[0;32m      3\u001b[0m \u001b[0memb_Xt\u001b[0m \u001b[1;33m=\u001b[0m \u001b[0mgetOutputEmbeddings\u001b[0m\u001b[1;33m(\u001b[0m\u001b[0mXt\u001b[0m\u001b[1;33m)\u001b[0m\u001b[1;33m\u001b[0m\u001b[0m\n",
      "\u001b[1;32m<ipython-input-73-7f6a2ae4623f>\u001b[0m in \u001b[0;36mgetOutputEmbeddings\u001b[1;34m(X)\u001b[0m\n\u001b[0;32m      2\u001b[0m     \u001b[0membedding_matrix_output\u001b[0m \u001b[1;33m=\u001b[0m \u001b[0mnp\u001b[0m\u001b[1;33m.\u001b[0m\u001b[0mzeros\u001b[0m\u001b[1;33m(\u001b[0m\u001b[1;33m(\u001b[0m\u001b[0mX\u001b[0m\u001b[1;33m.\u001b[0m\u001b[0mshape\u001b[0m\u001b[1;33m[\u001b[0m\u001b[1;36m0\u001b[0m\u001b[1;33m]\u001b[0m\u001b[1;33m,\u001b[0m\u001b[1;36m10\u001b[0m\u001b[1;33m,\u001b[0m\u001b[1;36m50\u001b[0m\u001b[1;33m)\u001b[0m\u001b[1;33m)\u001b[0m\u001b[1;33m\u001b[0m\u001b[0m\n\u001b[0;32m      3\u001b[0m     \u001b[1;32mfor\u001b[0m \u001b[0mix\u001b[0m \u001b[1;32min\u001b[0m \u001b[0mrange\u001b[0m\u001b[1;33m(\u001b[0m\u001b[0mX\u001b[0m\u001b[1;33m.\u001b[0m\u001b[0mshape\u001b[0m\u001b[1;33m[\u001b[0m\u001b[1;36m0\u001b[0m\u001b[1;33m]\u001b[0m\u001b[1;33m)\u001b[0m\u001b[1;33m:\u001b[0m\u001b[1;33m\u001b[0m\u001b[0m\n\u001b[1;32m----> 4\u001b[1;33m         \u001b[0mX\u001b[0m\u001b[1;33m[\u001b[0m\u001b[0mix\u001b[0m\u001b[1;33m]\u001b[0m \u001b[1;33m=\u001b[0m \u001b[0mX\u001b[0m\u001b[1;33m[\u001b[0m\u001b[0mix\u001b[0m\u001b[1;33m]\u001b[0m\u001b[1;33m.\u001b[0m\u001b[0msplit\u001b[0m\u001b[1;33m(\u001b[0m\u001b[1;33m)\u001b[0m\u001b[1;33m\u001b[0m\u001b[0m\n\u001b[0m\u001b[0;32m      5\u001b[0m         \u001b[1;32mfor\u001b[0m \u001b[0mjx\u001b[0m \u001b[1;32min\u001b[0m \u001b[0mrange\u001b[0m\u001b[1;33m(\u001b[0m\u001b[0mlen\u001b[0m\u001b[1;33m(\u001b[0m\u001b[0mX\u001b[0m\u001b[1;33m[\u001b[0m\u001b[0mix\u001b[0m\u001b[1;33m]\u001b[0m\u001b[1;33m)\u001b[0m\u001b[1;33m)\u001b[0m\u001b[1;33m:\u001b[0m\u001b[1;33m\u001b[0m\u001b[0m\n\u001b[0;32m      6\u001b[0m             \u001b[0membedding_matrix_output\u001b[0m\u001b[1;33m[\u001b[0m\u001b[0mix\u001b[0m\u001b[1;33m]\u001b[0m\u001b[1;33m[\u001b[0m\u001b[0mjx\u001b[0m\u001b[1;33m]\u001b[0m \u001b[1;33m=\u001b[0m \u001b[0membeddings\u001b[0m\u001b[1;33m[\u001b[0m\u001b[0mX\u001b[0m\u001b[1;33m[\u001b[0m\u001b[0mix\u001b[0m\u001b[1;33m]\u001b[0m\u001b[1;33m[\u001b[0m\u001b[0mjx\u001b[0m\u001b[1;33m]\u001b[0m\u001b[1;33m.\u001b[0m\u001b[0mlower\u001b[0m\u001b[1;33m(\u001b[0m\u001b[1;33m)\u001b[0m\u001b[1;33m]\u001b[0m\u001b[1;33m\u001b[0m\u001b[0m\n",
      "\u001b[1;31mAttributeError\u001b[0m: 'list' object has no attribute 'split'"
     ]
    }
   ],
   "source": [
    "\n",
    "emb_XT = getOutputEmbeddings(XT)\n",
    "emb_Xt = getOutputEmbeddings(Xt)\n"
   ]
  },
  {
   "cell_type": "code",
   "execution_count": 20,
   "metadata": {},
   "outputs": [
    {
     "name": "stdout",
     "output_type": "stream",
     "text": [
      "(132, 10, 50)\n",
      "(56, 10, 50)\n"
     ]
    }
   ],
   "source": [
    "print(emb_XT.shape)\n",
    "print(emb_Xt.shape)"
   ]
  },
  {
   "cell_type": "code",
   "execution_count": 21,
   "metadata": {},
   "outputs": [],
   "source": [
    "from tensorflow.keras.layers import *\n",
    "from tensorflow.keras.models import Sequential"
   ]
  },
  {
   "cell_type": "code",
   "execution_count": 61,
   "metadata": {},
   "outputs": [],
   "source": [
    "## model using simpleRNN"
   ]
  },
  {
   "cell_type": "code",
   "execution_count": 40,
   "metadata": {},
   "outputs": [
    {
     "name": "stdout",
     "output_type": "stream",
     "text": [
      "Model: \"sequential_7\"\n",
      "_________________________________________________________________\n",
      "Layer (type)                 Output Shape              Param #   \n",
      "=================================================================\n",
      "simple_rnn_12 (SimpleRNN)    (None, 10, 64)            7360      \n",
      "_________________________________________________________________\n",
      "dropout_11 (Dropout)         (None, 10, 64)            0         \n",
      "_________________________________________________________________\n",
      "simple_rnn_13 (SimpleRNN)    (None, 64)                8256      \n",
      "_________________________________________________________________\n",
      "dropout_12 (Dropout)         (None, 64)                0         \n",
      "_________________________________________________________________\n",
      "dense_4 (Dense)              (None, 5)                 325       \n",
      "_________________________________________________________________\n",
      "activation_4 (Activation)    (None, 5)                 0         \n",
      "=================================================================\n",
      "Total params: 15,941\n",
      "Trainable params: 15,941\n",
      "Non-trainable params: 0\n",
      "_________________________________________________________________\n"
     ]
    }
   ],
   "source": [
    "model = Sequential()\n",
    "model.add(SimpleRNN(64,input_shape=(10,50),return_sequences=True))\n",
    "model.add(Dropout(0.4))\n",
    "model.add(SimpleRNN(64))\n",
    "model.add(Dropout(0.3))\n",
    "model.add(Dense(5))\n",
    "model.add(Activation('softmax'))\n",
    "model.summary()"
   ]
  },
  {
   "cell_type": "code",
   "execution_count": 60,
   "metadata": {},
   "outputs": [],
   "source": [
    "## model using lstm"
   ]
  },
  {
   "cell_type": "code",
   "execution_count": 48,
   "metadata": {},
   "outputs": [
    {
     "name": "stdout",
     "output_type": "stream",
     "text": [
      "Model: \"sequential_9\"\n",
      "_________________________________________________________________\n",
      "Layer (type)                 Output Shape              Param #   \n",
      "=================================================================\n",
      "lstm_5 (LSTM)                (None, 10, 64)            29440     \n",
      "_________________________________________________________________\n",
      "dropout_15 (Dropout)         (None, 10, 64)            0         \n",
      "_________________________________________________________________\n",
      "lstm_6 (LSTM)                (None, 64)                33024     \n",
      "_________________________________________________________________\n",
      "dropout_16 (Dropout)         (None, 64)                0         \n",
      "_________________________________________________________________\n",
      "dense_6 (Dense)              (None, 5)                 325       \n",
      "_________________________________________________________________\n",
      "activation_6 (Activation)    (None, 5)                 0         \n",
      "=================================================================\n",
      "Total params: 62,789\n",
      "Trainable params: 62,789\n",
      "Non-trainable params: 0\n",
      "_________________________________________________________________\n"
     ]
    }
   ],
   "source": [
    "classifier = Sequential()\n",
    "classifier.add(LSTM(64,input_shape=(10,50),return_sequences=True))\n",
    "classifier.add(Dropout(0.4))\n",
    "classifier.add(LSTM(64))\n",
    "classifier.add(Dropout(0.3))\n",
    "classifier.add(Dense(5))\n",
    "classifier.add(Activation('softmax'))\n",
    "classifier.summary()"
   ]
  },
  {
   "cell_type": "code",
   "execution_count": 41,
   "metadata": {},
   "outputs": [
    {
     "name": "stdout",
     "output_type": "stream",
     "text": [
      "Train on 118 samples, validate on 14 samples\n",
      "Epoch 1/40\n",
      "118/118 [==============================] - 2s 15ms/sample - loss: 1.8783 - acc: 0.1949 - val_loss: 1.6886 - val_acc: 0.2143\n",
      "Epoch 2/40\n",
      "118/118 [==============================] - 0s 339us/sample - loss: 1.5786 - acc: 0.3136 - val_loss: 1.6956 - val_acc: 0.2857\n",
      "Epoch 3/40\n",
      "118/118 [==============================] - 0s 305us/sample - loss: 1.5270 - acc: 0.3305 - val_loss: 1.6693 - val_acc: 0.1429\n",
      "Epoch 4/40\n",
      "118/118 [==============================] - 0s 339us/sample - loss: 1.3622 - acc: 0.3983 - val_loss: 1.6130 - val_acc: 0.1429\n",
      "Epoch 5/40\n",
      "118/118 [==============================] - 0s 339us/sample - loss: 1.2766 - acc: 0.4746 - val_loss: 1.5129 - val_acc: 0.4286\n",
      "Epoch 6/40\n",
      "118/118 [==============================] - 0s 372us/sample - loss: 1.2938 - acc: 0.4576 - val_loss: 1.4135 - val_acc: 0.5000\n",
      "Epoch 7/40\n",
      "118/118 [==============================] - 0s 305us/sample - loss: 1.1173 - acc: 0.5593 - val_loss: 1.3348 - val_acc: 0.5714\n",
      "Epoch 8/40\n",
      "118/118 [==============================] - 0s 339us/sample - loss: 1.0276 - acc: 0.6017 - val_loss: 1.3159 - val_acc: 0.5000\n",
      "Epoch 9/40\n",
      "118/118 [==============================] - 0s 339us/sample - loss: 0.9342 - acc: 0.6441 - val_loss: 1.2940 - val_acc: 0.4286\n",
      "Epoch 10/40\n",
      "118/118 [==============================] - 0s 305us/sample - loss: 0.9042 - acc: 0.6949 - val_loss: 1.2683 - val_acc: 0.5000\n",
      "Epoch 11/40\n",
      "118/118 [==============================] - 0s 339us/sample - loss: 0.8801 - acc: 0.6610 - val_loss: 1.2717 - val_acc: 0.5000\n",
      "Epoch 12/40\n",
      "118/118 [==============================] - 0s 305us/sample - loss: 0.7779 - acc: 0.7627 - val_loss: 1.3083 - val_acc: 0.4286\n",
      "Epoch 13/40\n",
      "118/118 [==============================] - 0s 305us/sample - loss: 0.6824 - acc: 0.8136 - val_loss: 1.1299 - val_acc: 0.5714\n",
      "Epoch 14/40\n",
      "118/118 [==============================] - 0s 372us/sample - loss: 0.6463 - acc: 0.8051 - val_loss: 1.0687 - val_acc: 0.6429\n",
      "Epoch 15/40\n",
      "118/118 [==============================] - ETA: 0s - loss: 0.4949 - acc: 0.843 - 0s 339us/sample - loss: 0.5407 - acc: 0.8051 - val_loss: 1.1661 - val_acc: 0.5000\n",
      "Epoch 16/40\n",
      "118/118 [==============================] - 0s 372us/sample - loss: 0.4984 - acc: 0.8390 - val_loss: 1.0473 - val_acc: 0.6429\n",
      "Epoch 17/40\n",
      "118/118 [==============================] - 0s 372us/sample - loss: 0.4145 - acc: 0.9068 - val_loss: 1.0854 - val_acc: 0.5714\n",
      "Epoch 18/40\n",
      "118/118 [==============================] - 0s 372us/sample - loss: 0.3883 - acc: 0.8983 - val_loss: 1.1952 - val_acc: 0.5714\n",
      "Epoch 19/40\n",
      "118/118 [==============================] - 0s 339us/sample - loss: 0.3718 - acc: 0.9153 - val_loss: 1.0398 - val_acc: 0.6429\n",
      "Epoch 20/40\n",
      "118/118 [==============================] - 0s 339us/sample - loss: 0.3290 - acc: 0.9407 - val_loss: 1.1173 - val_acc: 0.5714\n",
      "Epoch 21/40\n",
      "118/118 [==============================] - 0s 372us/sample - loss: 0.2729 - acc: 0.9576 - val_loss: 1.0442 - val_acc: 0.5714\n",
      "Epoch 22/40\n",
      "118/118 [==============================] - 0s 339us/sample - loss: 0.2343 - acc: 0.9322 - val_loss: 1.0207 - val_acc: 0.5714\n",
      "Epoch 23/40\n",
      "118/118 [==============================] - 0s 339us/sample - loss: 0.2235 - acc: 0.9746 - val_loss: 1.0680 - val_acc: 0.6429\n",
      "Epoch 24/40\n",
      "118/118 [==============================] - 0s 305us/sample - loss: 0.2073 - acc: 0.9661 - val_loss: 1.0867 - val_acc: 0.6429\n",
      "Epoch 25/40\n",
      "118/118 [==============================] - 0s 339us/sample - loss: 0.1591 - acc: 0.9915 - val_loss: 1.1349 - val_acc: 0.5714\n",
      "Epoch 26/40\n",
      "118/118 [==============================] - 0s 372us/sample - loss: 0.1840 - acc: 0.9661 - val_loss: 1.1119 - val_acc: 0.5714\n",
      "Epoch 27/40\n",
      "118/118 [==============================] - 0s 339us/sample - loss: 0.1546 - acc: 0.9915 - val_loss: 1.1120 - val_acc: 0.5714\n",
      "Epoch 28/40\n",
      "118/118 [==============================] - 0s 406us/sample - loss: 0.1576 - acc: 0.9746 - val_loss: 1.1517 - val_acc: 0.6429\n",
      "Epoch 29/40\n",
      "118/118 [==============================] - 0s 339us/sample - loss: 0.1129 - acc: 1.0000 - val_loss: 1.0387 - val_acc: 0.5714\n",
      "Epoch 30/40\n",
      "118/118 [==============================] - 0s 339us/sample - loss: 0.1157 - acc: 1.0000 - val_loss: 1.0868 - val_acc: 0.6429\n",
      "Epoch 31/40\n",
      "118/118 [==============================] - 0s 338us/sample - loss: 0.1140 - acc: 0.9746 - val_loss: 1.1550 - val_acc: 0.6429\n",
      "Epoch 32/40\n",
      "118/118 [==============================] - 0s 339us/sample - loss: 0.1060 - acc: 1.0000 - val_loss: 1.0344 - val_acc: 0.5714\n",
      "Epoch 33/40\n",
      "118/118 [==============================] - 0s 339us/sample - loss: 0.0974 - acc: 1.0000 - val_loss: 1.1903 - val_acc: 0.5714\n",
      "Epoch 34/40\n",
      "118/118 [==============================] - 0s 305us/sample - loss: 0.0855 - acc: 1.0000 - val_loss: 1.0864 - val_acc: 0.5714\n",
      "Epoch 35/40\n",
      "118/118 [==============================] - 0s 406us/sample - loss: 0.0964 - acc: 0.9915 - val_loss: 1.0255 - val_acc: 0.6429\n",
      "Epoch 36/40\n",
      "118/118 [==============================] - 0s 372us/sample - loss: 0.0992 - acc: 0.9915 - val_loss: 1.6905 - val_acc: 0.4286\n",
      "Epoch 37/40\n",
      "118/118 [==============================] - 0s 372us/sample - loss: 0.0765 - acc: 1.0000 - val_loss: 1.0745 - val_acc: 0.5000\n",
      "Epoch 38/40\n",
      "118/118 [==============================] - 0s 406us/sample - loss: 0.1027 - acc: 0.9746 - val_loss: 1.3784 - val_acc: 0.6429\n",
      "Epoch 39/40\n",
      "118/118 [==============================] - 0s 372us/sample - loss: 0.1012 - acc: 0.9831 - val_loss: 1.3933 - val_acc: 0.5000\n",
      "Epoch 40/40\n",
      "118/118 [==============================] - 0s 406us/sample - loss: 0.0685 - acc: 1.0000 - val_loss: 1.0228 - val_acc: 0.6429\n"
     ]
    },
    {
     "data": {
      "text/plain": [
       "<tensorflow.python.keras.callbacks.History at 0x20301b53898>"
      ]
     },
     "execution_count": 41,
     "metadata": {},
     "output_type": "execute_result"
    }
   ],
   "source": [
    "\n",
    "model.compile(optimizer='adam',loss='categorical_crossentropy',metrics=['acc'])\n",
    "model.fit(emb_XT,YT,batch_size=32,epochs=40,shuffle=True,validation_split=0.1)"
   ]
  },
  {
   "cell_type": "code",
   "execution_count": 43,
   "metadata": {},
   "outputs": [
    {
     "name": "stdout",
     "output_type": "stream",
     "text": [
      "\r",
      "56/1 [================================================================================================================================================================================================================================================================================================================================================================================================================================================================================================================================================================================================================================================================================================================================================================================================================================================================================================================================================================================================================================================================================================================================================================================================================================================================================================================================================================================================================================================================================================================================================================================================================================================================================================================================================] - 0s 143us/sample - loss: 1.5078 - acc: 0.5357\n"
     ]
    },
    {
     "data": {
      "text/plain": [
       "[1.5863640478679113, 0.53571427]"
      ]
     },
     "execution_count": 43,
     "metadata": {},
     "output_type": "execute_result"
    }
   ],
   "source": [
    "model.evaluate(emb_Xt,Yt)"
   ]
  },
  {
   "cell_type": "code",
   "execution_count": 49,
   "metadata": {},
   "outputs": [
    {
     "name": "stdout",
     "output_type": "stream",
     "text": [
      "Train on 118 samples, validate on 14 samples\n",
      "Epoch 1/40\n",
      "118/118 [==============================] - 4s 33ms/sample - loss: 1.5784 - acc: 0.2966 - val_loss: 1.6554 - val_acc: 0.2857\n",
      "Epoch 2/40\n",
      "118/118 [==============================] - 0s 546us/sample - loss: 1.5345 - acc: 0.3644 - val_loss: 1.6650 - val_acc: 0.2857\n",
      "Epoch 3/40\n",
      "118/118 [==============================] - 0s 550us/sample - loss: 1.4907 - acc: 0.4237 - val_loss: 1.6783 - val_acc: 0.1429\n",
      "Epoch 4/40\n",
      "118/118 [==============================] - 0s 508us/sample - loss: 1.4540 - acc: 0.4407 - val_loss: 1.6574 - val_acc: 0.2143\n",
      "Epoch 5/40\n",
      "118/118 [==============================] - 0s 530us/sample - loss: 1.4045 - acc: 0.3898 - val_loss: 1.6516 - val_acc: 0.1429\n",
      "Epoch 6/40\n",
      "118/118 [==============================] - 0s 474us/sample - loss: 1.3522 - acc: 0.4153 - val_loss: 1.5970 - val_acc: 0.2143\n",
      "Epoch 7/40\n",
      "118/118 [==============================] - 0s 508us/sample - loss: 1.2968 - acc: 0.4831 - val_loss: 1.5301 - val_acc: 0.2857\n",
      "Epoch 8/40\n",
      "118/118 [==============================] - 0s 474us/sample - loss: 1.1903 - acc: 0.5932 - val_loss: 1.4927 - val_acc: 0.2857\n",
      "Epoch 9/40\n",
      "118/118 [==============================] - 0s 508us/sample - loss: 1.0753 - acc: 0.5763 - val_loss: 1.4436 - val_acc: 0.3571\n",
      "Epoch 10/40\n",
      "118/118 [==============================] - 0s 474us/sample - loss: 0.9923 - acc: 0.6356 - val_loss: 1.3365 - val_acc: 0.4286\n",
      "Epoch 11/40\n",
      "118/118 [==============================] - 0s 474us/sample - loss: 0.9078 - acc: 0.6017 - val_loss: 1.4669 - val_acc: 0.5000\n",
      "Epoch 12/40\n",
      "118/118 [==============================] - 0s 508us/sample - loss: 0.8292 - acc: 0.6949 - val_loss: 1.3902 - val_acc: 0.5000\n",
      "Epoch 13/40\n",
      "118/118 [==============================] - 0s 474us/sample - loss: 0.7407 - acc: 0.7797 - val_loss: 1.3159 - val_acc: 0.5000\n",
      "Epoch 14/40\n",
      "118/118 [==============================] - 0s 508us/sample - loss: 0.7005 - acc: 0.7712 - val_loss: 1.2753 - val_acc: 0.5000\n",
      "Epoch 15/40\n",
      "118/118 [==============================] - 0s 508us/sample - loss: 0.5275 - acc: 0.8475 - val_loss: 1.1505 - val_acc: 0.6429\n",
      "Epoch 16/40\n",
      "118/118 [==============================] - 0s 508us/sample - loss: 0.5432 - acc: 0.8390 - val_loss: 1.4384 - val_acc: 0.3571\n",
      "Epoch 17/40\n",
      "118/118 [==============================] - 0s 508us/sample - loss: 0.5515 - acc: 0.8136 - val_loss: 1.1664 - val_acc: 0.5714\n",
      "Epoch 18/40\n",
      "118/118 [==============================] - 0s 508us/sample - loss: 0.4670 - acc: 0.8390 - val_loss: 1.0282 - val_acc: 0.6429\n",
      "Epoch 19/40\n",
      "118/118 [==============================] - 0s 474us/sample - loss: 0.4049 - acc: 0.8644 - val_loss: 1.0410 - val_acc: 0.6429\n",
      "Epoch 20/40\n",
      "118/118 [==============================] - 0s 542us/sample - loss: 0.3450 - acc: 0.9068 - val_loss: 1.0931 - val_acc: 0.6429\n",
      "Epoch 21/40\n",
      "118/118 [==============================] - 0s 575us/sample - loss: 0.2702 - acc: 0.9068 - val_loss: 1.0871 - val_acc: 0.6429\n",
      "Epoch 22/40\n",
      "118/118 [==============================] - 0s 542us/sample - loss: 0.3045 - acc: 0.9153 - val_loss: 1.1058 - val_acc: 0.6429\n",
      "Epoch 23/40\n",
      "118/118 [==============================] - 0s 508us/sample - loss: 0.2264 - acc: 0.9492 - val_loss: 1.3586 - val_acc: 0.5714\n",
      "Epoch 24/40\n",
      "118/118 [==============================] - 0s 508us/sample - loss: 0.2449 - acc: 0.8983 - val_loss: 1.0746 - val_acc: 0.5714\n",
      "Epoch 25/40\n",
      "118/118 [==============================] - 0s 508us/sample - loss: 0.2128 - acc: 0.9068 - val_loss: 1.5036 - val_acc: 0.5714\n",
      "Epoch 26/40\n",
      "118/118 [==============================] - 0s 474us/sample - loss: 0.2485 - acc: 0.9068 - val_loss: 1.0114 - val_acc: 0.5714\n",
      "Epoch 27/40\n",
      "118/118 [==============================] - 0s 542us/sample - loss: 0.1771 - acc: 0.9407 - val_loss: 0.8782 - val_acc: 0.6429\n",
      "Epoch 28/40\n",
      "118/118 [==============================] - 0s 508us/sample - loss: 0.1645 - acc: 0.9322 - val_loss: 1.3922 - val_acc: 0.5714\n",
      "Epoch 29/40\n",
      "118/118 [==============================] - 0s 542us/sample - loss: 0.1347 - acc: 0.9576 - val_loss: 0.9299 - val_acc: 0.6429\n",
      "Epoch 30/40\n",
      "118/118 [==============================] - 0s 508us/sample - loss: 0.2210 - acc: 0.9322 - val_loss: 1.2777 - val_acc: 0.6429\n",
      "Epoch 31/40\n",
      "118/118 [==============================] - 0s 508us/sample - loss: 0.2959 - acc: 0.9068 - val_loss: 1.2579 - val_acc: 0.5714\n",
      "Epoch 32/40\n",
      "118/118 [==============================] - 0s 474us/sample - loss: 0.1493 - acc: 0.9492 - val_loss: 1.0189 - val_acc: 0.7857\n",
      "Epoch 33/40\n",
      "118/118 [==============================] - 0s 508us/sample - loss: 0.1048 - acc: 0.9661 - val_loss: 1.1446 - val_acc: 0.5714\n",
      "Epoch 34/40\n",
      "118/118 [==============================] - 0s 440us/sample - loss: 0.1366 - acc: 0.9492 - val_loss: 1.0734 - val_acc: 0.6429\n",
      "Epoch 35/40\n",
      "118/118 [==============================] - 0s 508us/sample - loss: 0.1403 - acc: 0.9576 - val_loss: 0.7837 - val_acc: 0.7857\n",
      "Epoch 36/40\n",
      "118/118 [==============================] - 0s 508us/sample - loss: 0.0972 - acc: 0.9746 - val_loss: 0.9524 - val_acc: 0.7143\n",
      "Epoch 37/40\n",
      "118/118 [==============================] - 0s 474us/sample - loss: 0.0704 - acc: 0.9831 - val_loss: 0.8912 - val_acc: 0.6429\n",
      "Epoch 38/40\n",
      "118/118 [==============================] - 0s 508us/sample - loss: 0.0555 - acc: 0.9915 - val_loss: 1.0415 - val_acc: 0.5714\n",
      "Epoch 39/40\n",
      "118/118 [==============================] - 0s 474us/sample - loss: 0.0416 - acc: 1.0000 - val_loss: 1.0118 - val_acc: 0.6429\n",
      "Epoch 40/40\n",
      "118/118 [==============================] - 0s 542us/sample - loss: 0.0604 - acc: 0.9915 - val_loss: 1.2902 - val_acc: 0.6429\n"
     ]
    },
    {
     "data": {
      "text/plain": [
       "<tensorflow.python.keras.callbacks.History at 0x203085ffc50>"
      ]
     },
     "execution_count": 49,
     "metadata": {},
     "output_type": "execute_result"
    }
   ],
   "source": [
    "classifier.compile(optimizer='adam',loss='categorical_crossentropy',metrics=['acc'])\n",
    "classifier.fit(emb_XT,YT,batch_size=32,epochs=40,shuffle=True,validation_split=0.1)"
   ]
  },
  {
   "cell_type": "code",
   "execution_count": 50,
   "metadata": {},
   "outputs": [
    {
     "name": "stdout",
     "output_type": "stream",
     "text": [
      "\r",
      "56/1 [================================================================================================================================================================================================================================================================================================================================================================================================================================================================================================================================================================================================================================================================================================================================================================================================================================================================================================================================================================================================================================================================================================================================================================================================================================================================================================================================================================================================================================================================================================================================================================================================================================================================================================================================================] - 0s 214us/sample - loss: 1.5961 - acc: 0.5893\n"
     ]
    },
    {
     "data": {
      "text/plain": [
       "[1.8018328973225184, 0.58928573]"
      ]
     },
     "execution_count": 50,
     "metadata": {},
     "output_type": "execute_result"
    }
   ],
   "source": [
    "classifier.evaluate(emb_Xt,Yt)"
   ]
  },
  {
   "cell_type": "code",
   "execution_count": 57,
   "metadata": {},
   "outputs": [],
   "source": [
    "pred = classifier.predict_classes(emb_Xt)"
   ]
  },
  {
   "cell_type": "code",
   "execution_count": 58,
   "metadata": {},
   "outputs": [
    {
     "data": {
      "text/plain": [
       "array([4, 3, 2, 2, 2, 2, 3, 2, 4, 2, 1, 2, 0, 3, 1, 3, 2, 2, 3, 2, 0, 0,\n",
       "       4, 3, 3, 3, 2, 0, 1, 2, 0, 1, 2, 2, 2, 1, 2, 3, 2, 2, 1, 0, 0, 1,\n",
       "       2, 2, 3, 2, 3, 1, 3, 0, 3, 2, 2, 3], dtype=int64)"
      ]
     },
     "execution_count": 58,
     "metadata": {},
     "output_type": "execute_result"
    }
   ],
   "source": [
    "pred"
   ]
  },
  {
   "cell_type": "code",
   "execution_count": 59,
   "metadata": {},
   "outputs": [
    {
     "name": "stdout",
     "output_type": "stream",
     "text": [
      "I want to eat\n",
      "🍴\n",
      "🍴\n",
      "he did not answer\n",
      "😓\n",
      "😓\n",
      "he got a raise\n",
      "😁\n",
      "😁\n",
      "she got me a present\n",
      "❤️\n",
      "😁\n",
      "ha ha ha it was so funny\n",
      "😁\n",
      "😁\n",
      "he is a good friend\n",
      "❤️\n",
      "😁\n",
      "I am upset\n",
      "❤️\n",
      "😓\n",
      "We had such a lovely dinner tonight\n",
      "❤️\n",
      "😁\n",
      "where is the food\n",
      "🍴\n",
      "🍴\n",
      "Stop making this joke ha ha ha\n",
      "😁\n",
      "😁\n",
      "where is the ball\n",
      "⚾\n",
      "⚾\n",
      "work is hard\n",
      "😓\n",
      "😁\n",
      "This girl is messing with me\n",
      "😓\n",
      "❤️\n",
      "are you serious ha ha\n",
      "😁\n",
      "😓\n",
      "Let us go play baseball\n",
      "⚾\n",
      "⚾\n",
      "This stupid grader is not working\n",
      "😓\n",
      "😓\n",
      "work is horrible\n",
      "😓\n",
      "😁\n",
      "Congratulation for having a baby\n",
      "😁\n",
      "😁\n",
      "stop messing around\n",
      "😓\n",
      "😓\n",
      "any suggestions for dinner\n",
      "🍴\n",
      "😁\n",
      "I love taking breaks\n",
      "❤️\n",
      "❤️\n",
      "you brighten my day\n",
      "😁\n",
      "❤️\n",
      "I boiled rice\n",
      "🍴\n",
      "🍴\n",
      "she is a bully\n",
      "😓\n",
      "😓\n",
      "Why are you feeling bad\n",
      "😓\n",
      "😓\n",
      "I am upset\n",
      "😓\n",
      "😓\n",
      "I worked during my birthday\n",
      "😓\n",
      "😁\n",
      "My grandmother is the love of my life\n",
      "❤️\n",
      "❤️\n",
      "enjoy your break\n",
      "😁\n",
      "⚾\n",
      "valentine day is near\n",
      "❤️\n",
      "😁\n"
     ]
    }
   ],
   "source": [
    "for i in range(30):\n",
    "    print(' '.join(Xt[i]))\n",
    "    print(emoji.emojize(emoji_dictionary[str(np.argmax(Yt[i]))]))\n",
    "    print(emoji.emojize(emoji_dictionary[str(pred[i])]))"
   ]
  },
  {
   "cell_type": "code",
   "execution_count": null,
   "metadata": {},
   "outputs": [],
   "source": []
  }
 ],
 "metadata": {
  "kernelspec": {
   "display_name": "Python 3",
   "language": "python",
   "name": "python3"
  },
  "language_info": {
   "codemirror_mode": {
    "name": "ipython",
    "version": 3
   },
   "file_extension": ".py",
   "mimetype": "text/x-python",
   "name": "python",
   "nbconvert_exporter": "python",
   "pygments_lexer": "ipython3",
   "version": "3.6.6"
  }
 },
 "nbformat": 4,
 "nbformat_minor": 2
}
